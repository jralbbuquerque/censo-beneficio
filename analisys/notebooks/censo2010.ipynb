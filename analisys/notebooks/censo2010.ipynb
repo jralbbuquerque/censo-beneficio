{
 "cells": [
  {
   "cell_type": "code",
   "execution_count": 17,
   "metadata": {},
   "outputs": [
    {
     "name": "stdout",
     "output_type": "stream",
     "text": [
      "Conectado com sucesso\n"
     ]
    }
   ],
   "source": [
    "# ---------- IMPORTAÇÃO DAS BIBLIOTECAS ---------- #\n",
    "\n",
    "import numpy as np\n",
    "import pandas as pd\n",
    "import psycopg2\n",
    "import pandas.io.sql as sqlio\n",
    "import matplotlib.pyplot as plt\n",
    "import seaborn as sns\n",
    "import time\n",
    "\n",
    "# ---------- CONEXÃO COM O BANCO DE DADOS ---------- #\n",
    "# Parâmetros da Conexão\n",
    "host    = 'lincpo.com.br'\n",
    "port    = '2035'\n",
    "dbname  = 'censo'\n",
    "dbtable = 'censo_2000'\n",
    "user    = 'prevdb_user'\n",
    "pwd     = 'pr3v'\n",
    "\n",
    "# Conexão com o Banco de Dados\n",
    "conn = psycopg2.connect(\"host='{}' port={} dbname='{}'user={} password={}\"\n",
    "         .format(host, port, dbname, user, pwd))\n",
    "\n",
    "if conn == -1:\n",
    "    print(\"Não foi possível conectar a Base de Dados\")\n",
    "else:\n",
    "    print(\"Conectado com sucesso\")"
   ]
  },
  {
   "cell_type": "markdown",
   "metadata": {},
   "source": [
    "# **Censo Demográfico 2010 - Análise dos Benefícios e Indíce de Gini**\n",
    "\n",
    "* Cálculo do indíce de Gini (renda percapita e percapita domiciliar) nas base de dados dos censos de: \n",
    "     * **1991** (?)\n",
    "     * **2000**\n",
    "     * **2010**\n",
    "* Base de Dados disponível em: ftp://ftp.ibge.gov.br/Censos/\n",
    "* Resultados divulgados pelo IBGE disponível em: http://www.atlasbrasil.org.br/2013/pt/consulta/\n",
    "* Unidade de amostra: **Estados**\n",
    "* Análise estátisca acerca da situação dos benefícios (aposentadorias e pensões)\n",
    "* Anuário estatistico da previdência (ano 2000?): http://www.previdencia.gov.br/a-previdencia/politicas-de-previdencia-social/resultados-do-rgps/"
   ]
  },
  {
   "cell_type": "markdown",
   "metadata": {},
   "source": [
    "## **1. Indíce de Gini**\n",
    "* Indicador que mede a desigualdade de renda\n",
    "* G = 1 corresponde a total desigualdade e G = 0 corresponde a total igualdade de renda\n",
    "* Pode ser cálculado como:\n",
    "\n",
    "$G = 1 - CurvaLorenz$\n",
    "\n",
    "ou \n",
    "\n",
    "$G = 1 - \\sum_{i=1}^{k=n-1} (p_{k+1} - p_{k})(r_{k+1} + r_{k})$\n",
    "* Onde: \n",
    "    - G - Coeficiente de Gini\n",
    "    - P - Proporção acumulada da \"população\"\n",
    "    - R - Proporção acumulada de \"renda\"\n",
    "    \n",
    "* Obs: é necessário organizar **R** de forma crescente: \n",
    "\n",
    "$r_{1} ≤ r_{2} ≤ r_{3} ... ≤ r_{i} ≤ ... ≤ r_{n}$"
   ]
  },
  {
   "cell_type": "code",
   "execution_count": 2,
   "metadata": {},
   "outputs": [],
   "source": [
    "# ---------- CALCULO DO ÍNDICE DE GINI ---------- #\n",
    "\n",
    "def gini( sql ):\n",
    "    df = pd.read_sql_query( sql, conn )\n",
    "    \n",
    "    # Separa valores em renda e população\n",
    "    renda = df[ 'renda' ]\n",
    "    pessoas = df[ 'peso' ]\n",
    "    \n",
    "    # Transforma as listas em arrays\n",
    "    pessoas = np.array( pessoas )\n",
    "    renda = np.array( renda )\n",
    "\n",
    "    # Organiza os dados\n",
    "    aux = np.argsort( [ renda/pessoas for renda, pessoas in zip( renda, pessoas ) ], kind = \"stable\")\n",
    "    \n",
    "    renda = [j for _, j in zip( aux, renda[ aux ] )]\n",
    "    pessoas = [i for _, i in zip(aux, pessoas[ aux ] )]\n",
    "\n",
    "    # Soma acumulada de renda e pessoas \n",
    "    renda = np.cumsum( renda / sum( renda ) )\n",
    "    pessoas = np.cumsum( pessoas / sum( pessoas ) )\n",
    "    \n",
    "    # Fŕomula do indíce de gini [ Gini = 1 - CurvaLorenz]\n",
    "    g = 2 * ( 0.5 - np.trapz( renda, pessoas ) )\n",
    "    \n",
    "    return g, pessoas, renda"
   ]
  },
  {
   "cell_type": "code",
   "execution_count": 3,
   "metadata": {},
   "outputs": [],
   "source": [
    "# ---------- PLOT DA CURVA DE LORENZ---------- #\n",
    "\n",
    "def plotagem( pessoas, renda ):\n",
    "    plt.plot( pessoas, renda, 'k' )\n",
    "    plt.plot( [ 0, 1 ], 'r' )\n",
    "    plt.ylim( 0, 1 ), plt.xlim( 0, 1 )\n",
    "    plt.fill_between( pessoas, renda, facecolor = 'y' )\n",
    "\n",
    "    plt.xlabel( 'Proporção de população' )\n",
    "    plt.ylabel( 'Proporção de renda' )\n",
    "    plt.title( 'Curva de Lorenz' )\n",
    "    plt.show()"
   ]
  },
  {
   "cell_type": "markdown",
   "metadata": {},
   "source": [
    "### **Variáveis de Interesse da Base de Dados**\n",
    "\n",
    "------------ \n",
    "* Variáveis de domicílios:\n",
    "    - **v0001** - Código do estado\n",
    "    - **v0002** - Código município \n",
    "    - **v6529** - Rendimento domiciliar\n",
    "    - **v0401** - Número de moradores do domicílio\n",
    "    - **v0001**  - Peso da amostra associado a quantas vezes o registro se repete\n",
    "\n",
    "------------    \n",
    "* Variáveis de pessoas:\n",
    "    - **v0001** - Código do estado\n",
    "    - **v0002** - Código município \n",
    "    - **v6527** - Rendimento total\n",
    "    - **v0656** - Se tinha rendimento proveninete de benefício público\n",
    "        - 1 - Sim\n",
    "        - 0 - Não\n",
    "        - 9 - Ignorado\n",
    "    - **v0659** - Se tinha rendimento proveninete de benefício privado\n",
    "        - 1 - Sim\n",
    "        - 0 - Não\n",
    "        - 9 - Ignorado\n",
    "    - **v6591** - Valor total dos rendimentos nas categorias v0656 e v0659\n",
    "    - **v0001** - Peso da amostra associado a quantas vezes o registro se repete\n",
    "------------ "
   ]
  },
  {
   "cell_type": "markdown",
   "metadata": {},
   "source": [
    "### **Unidades Federativas e Indíce de Gini**\n",
    "\n",
    "| UF                  | Código | Gini 1991 | Gini 1991* | Gini 2000 | Gini 2000* | Gini 2010 | Gini 2010* |\n",
    "|---------------------|--------|-----------|------------|-----------|------------|-----------|------------|\n",
    "| Acre                | 12     | 0,63      | 0          | 0,64      | 0,6233     | 0,63      | 0          |\n",
    "| Alagoas             | 27     | 0,63      | 0          | 0,68      | 0,6615     | 0,63      | 0          |\n",
    "| Amapá               | 16     | 0,58      | 0          | 0,62      | 0,6126     | 0,6       | 0          |\n",
    "| Amazonas            | 13     | 0,62      | 0          | 0,67      | 0,6569     | 0,65      | 0          |\n",
    "| Bahia               | 29     | 0,67      | 0          | 0,66      | 0,6467     | 0,62      | 0          |\n",
    "| Ceará               | 23     | 0,66      | 0          | 0,67      | 0,6431     | 0,61      | 0          |\n",
    "| Distrito Federal    | 53     | 0,62      | 0          | 0,63      | 0,6226     | 0,63      | 0          |\n",
    "| Espírito Santo      | 32     | 0,6       | 0          | 0,6       | 0,5947     | 0,56      | 0          |\n",
    "| Goiás               | 52     | 0,59      | 0          | 0,6       | 0,6163     | 0,55      | 0          |\n",
    "| Maranhão            | 21     | 0,6       | 0          | 0,65      | 0,6489     | 0,62      | 0          |\n",
    "| Mato Grosso do Sul  | 50     | 0,6       | 0          | 0,62      | 0,6221     | 0,56      | 0          |\n",
    "| Mato Grosso         | 51     | 0,6       | 0          | 0,62      | 0,6221     | 0,55      | 0          |\n",
    "| Minas Gerais        | 31     | 0,61      | 0          | 0,61      | 0,6035     | 0,56      | 0          |\n",
    "| Paraíba             | 25     | 0,64      | 0          | 0,63      | 0,6258     | 0,61      | 0          |\n",
    "| Paraná              | 41     | 0,6       | 0          | 0,6       | 0,5976     | 0,53      | 0          |\n",
    "| Pará                | 15     | 0,62      | 0          | 0,65      | 0,6310     | 0,62      | 0          |\n",
    "| Pernambuco          | 26     | 0,65      | 0          | 0,66      | 0,6526     | 0,62      | 0          |\n",
    "| Piauí               | 22     | 0,64      | 0          | 0,65      | 0,6424     | 0,61      | 0          |\n",
    "| Rio de Janeiro      | 33     | 0,61      | 0          | 0,6       | 0          | 0,59      | 0          |\n",
    "| Rio Grande do Norte | 24     | 0,63      | 0          | 0,64      | 0,6348     | 0,6       | 0          |\n",
    "| Rio Grande do Sul   | 43     | 0,59      | 0          | 0,58      | 0,5772     | 0,54      | 0          |\n",
    "| Rondônia            | 11     | 0,62      | 0          | 0,6       | 0,6022     | 0,56      | 0          |\n",
    "| Roraima             | 14     | 0,63      | 0          | 0,61      | 0,6036     | 0,63      | 0          |\n",
    "| Santa Catarina      | 42     | 0,55      | 0          | 0,56      | 0,5538     | 0,49      | 0          |\n",
    "| São Paulo           | 35     | 0,55      | 0          | 0,58      | 0          | 0,56      | 0          |\n",
    "| Sergipe             | 28     | 0,63      | 0          | 0,65      | 0,6395     | 0,62      | 0          |\n",
    "| Tocantins           | 17     | 0,63      | 0          | 0,65      | 0,6411     | 0,6       | 0          |\n",
    "\n",
    "* Fonte: IBGE (2018)\n",
    "* ($*$) Resultados do algoritmo"
   ]
  },
  {
   "cell_type": "code",
   "execution_count": 4,
   "metadata": {},
   "outputs": [
    {
     "name": "stdout",
     "output_type": "stream",
     "text": [
      "Processamento do cálculo do índice de Gini (ano 2010) realizado com sucesso\n"
     ]
    }
   ],
   "source": [
    "# ---------- CALCULO DO ÍNDICE DE GINI PARA RENDA DOMICILIAR ---------- #\n",
    "\n",
    "estados = [ \"ac\", \"al\", \"am\", \"ap\", \"ba\", \"ce\", \"df\", \"es\", \"go\", \"ma\", \"mg\", \"ms\", \"mt\",\n",
    "          \"pa\", \"pb\", \"pe\", \"pi\", \"pr\", \"rj\", \"rn\", \"ro\", \"rr\", \"rs\", \"sc\", \"se\", \n",
    "          \"sp1\", \"sp2_rm\", \"to\" ]\n",
    "\n",
    "results = []\n",
    "\n",
    "for k in estados:\n",
    "    \n",
    "    # Seleciona os estados e municpios\n",
    "    sql = \"SELECT DISTINCT( v0002 ) AS cidade FROM censo_2010.domicilios_%s\" % k\n",
    "    cidades = pd.read_sql_query( sql, conn )\n",
    "\n",
    "    for i in cidades['cidade']:\n",
    "        \n",
    "        # Referenciando estado e cidade (k, i)\n",
    "        \n",
    "        # SQL - índice de gini renda domiciliar  \n",
    "        sql_RD = \"SELECT \\\n",
    "                COALESCE( ( v6529 * v0010 ), 0 ) AS renda, ( v0010 ) AS peso \\\n",
    "                FROM censo_2010.domicilios_%s \\\n",
    "                WHERE v0002 = '%s'\" %( k, i )\n",
    "        \n",
    "        # SQL - índice de gini renda per capita\n",
    "        sql_RP = \"SELECT \\\n",
    "                COALESCE( ( v6529 * v0010 ), 0 ) AS renda, ( v0010 * v0401 ) AS peso \\\n",
    "                FROM censo_2010.domicilios_%s \\\n",
    "                WHERE v0002 = '%s'\" %( k, i )\n",
    "\n",
    "        # SQL - renda per capita\n",
    "        sql_Renda = \"SELECT \\\n",
    "                    ( SUM( v6529 * v0010 ) / SUM( v0401 * v0010 ) ) AS RP \\\n",
    "                    FROM censo_2010.domicilios_%s \\\n",
    "                    WHERE v0002 = '%s'\" %( k, i )\n",
    "        \n",
    "        # SQL - Unidade Federativa\n",
    "        sql_UF = \"SELECT v0001 as UF FROM censo_2010.domicilios_%s limit 1 \" %( k )\n",
    "        \n",
    "        df_Renda = pd.read_sql_query( sql_Renda, conn )\n",
    "        df_UF = pd.read_sql_query( sql_UF, conn )\n",
    "        \n",
    "        # Ajuste da renda per capita de julho de 2000 para valores em agosto de 2010\n",
    "        # 99,19% de inflação no INCP\n",
    "        # renda2010 = df_Renda.loc[ 0, 'rp' ] + ( df_Renda.loc[ 0, 'rp' ] * 0.9919037 )\n",
    "        \n",
    "        # Obs: A função \"gini()\" retorna um array com [índice de gini], ...\n",
    "        # proporção acumulado da população] e [proporção acumulada de renda]\n",
    "        \n",
    "        g_RD = gini( sql_RD )\n",
    "        g_RP = gini( sql_RP )\n",
    "        \n",
    "        # Adiciona valores no array resultado\n",
    "        # || ID do municipio || Gini RD || Gini RP || Renda2000 || Renda2010 ||\n",
    "        results.append( [ df_UF.loc[ 0, 'uf' ] + i,\n",
    "                         g_RD[ 0 ], \n",
    "                         g_RP[ 0 ], \n",
    "                         df_Renda.loc[ 0, 'rp' ], \n",
    "                         df_Renda.loc[ 0, 'rp' ] ] )\n",
    "\n",
    "        \n",
    "# Salva em um arquivo .csv\n",
    "gini_domicilio = pd.DataFrame( results, columns = 'Cod Gini_RD Gini_RP RendaMedia RendaMedia2010'.split() )\n",
    "gini_domicilio.to_csv( 'results/gini2010.csv', sep = '\\t' )\n",
    "        \n",
    "print( \"Processamento do cálculo do índice de Gini (ano 2010) realizado com sucesso\" )"
   ]
  },
  {
   "cell_type": "code",
   "execution_count": 5,
   "metadata": {},
   "outputs": [
    {
     "data": {
      "image/png": "[encoded data removed]",
      "text/plain": [
       "<Figure size 432x288 with 1 Axes>"
      ]
     },
     "metadata": {
      "needs_background": "light"
     },
     "output_type": "display_data"
    }
   ],
   "source": [
    "# Ilustração de curva de Lorenz\n",
    "\n",
    "plotagem(g_RP[ 1 ], g_RP[ 2 ])"
   ]
  },
  {
   "cell_type": "markdown",
   "metadata": {},
   "source": [
    "## **2. Participação dos benefícios de aposentadorias e pensões**"
   ]
  },
  {
   "cell_type": "markdown",
   "metadata": {},
   "source": [
    "### **Rendimento de beneficios por estados**\n",
    "* Renda e percentual para o total dos estados\n",
    "* Renda e percentual para **aposentadorias** e **pensões** para cada estado\n",
    "* Renda e percentual para **aposentadorias** e **pensões** até 1 salário mínimo\n",
    "* Renda e percentual para **aposentadorias** e **pensões** acima de 1 salário mínimo\n",
    "* Foi utilizado o software [Pentaho Data Integration](https://sourceforge.net/projects/pentaho/) para a realização das consultas na base de dados"
   ]
  },
  {
   "cell_type": "code",
   "execution_count": 11,
   "metadata": {},
   "outputs": [
    {
     "name": "stdout",
     "output_type": "stream",
     "text": [
      "Processamento do cálculo dos benfícios (ano 2010) realizado com sucesso\n"
     ]
    }
   ],
   "source": [
    "# ---------- RESULTADOS DAS PARTICIPAÇÕES DE BENEFICIOS NO BRASIL - ESTADOS ---------- #\n",
    "\n",
    "estados = [ \"ac\", \"al\", \"am\", \"ap\", \"ba\", \"ce\", \"df\", \"es\", \"go\", \"ma\", \"mg\", \"ms\", \"mt\",\n",
    "          \"pa\", \"pb\", \"pe\", \"pi\", \"pr\", \"rj\", \"rn\", \"ro\", \"rr\", \"rs\", \"sc\", \"se\", \n",
    "          \"sp1\", \"sp2_rm\",  \"to\" ]\n",
    "\n",
    "results = []\n",
    "\n",
    "for k in estados: \n",
    "    # Rendimento total do estado\n",
    "    sql_RT = \"SELECT SUM( v6527 * v0010 ) AS RT \\\n",
    "            FROM censo_2010.pessoas_%s\" %k\n",
    "\n",
    "    # Rendimento total dos beneficios do estado\n",
    "    sql_RB = \"SELECT SUM( v6591 * v0010 ) AS RB \\\n",
    "            FROM censo_2010.pessoas_%s WHERE v0656 = 1\" %k\n",
    "\n",
    "    # Rendimento total dos beneficios acima de 1 salário minímo\n",
    "    sql_RB_nSAL = \"SELECT SUM( v6591 * v0010 ) AS RB_nSAL \\\n",
    "            FROM censo_2010.pessoas_%s WHERE v0656 = 1 AND v6591 > 510\" %k\n",
    "\n",
    "    # Rendimento total dos beneficios igual ou menor que 1 salário minímo\n",
    "    sql_RB_1SAL = \"SELECT SUM( v6591 * v0010 ) AS RB_1SAL \\\n",
    "            FROM censo_2010.pessoas_%s WHERE v0656 = 1 AND v6591 <= 510\" %k\n",
    "\n",
    "    df_RT = pd.read_sql_query( sql_RT, conn )\n",
    "    df_RB = pd.read_sql_query( sql_RB, conn )\n",
    "    df_RB_nSAL = pd.read_sql_query( sql_RB_nSAL, conn )\n",
    "    df_RB_1SAL = pd.read_sql_query( sql_RB_1SAL, conn )\n",
    "\n",
    "    RT = df_RT.loc[ 0, 'rt' ]\n",
    "    RB = df_RB.loc[ 0, 'rb' ]\n",
    "    RB_nSAL = df_RB_nSAL.loc[ 0, 'rb_nsal' ]\n",
    "    RB_1SAL = df_RB_1SAL.loc[ 0, 'rb_1sal' ]\n",
    "\n",
    "    results.append( [ k,\n",
    "                      RT,\n",
    "                      RB,\n",
    "                      RB / RT,\n",
    "                      RB_nSAL,\n",
    "                      RB_nSAL / RT,\n",
    "                      RB_1SAL,\n",
    "                      RB_1SAL / RT] )\n",
    "\n",
    "#results.append( [ \"br\", np.sum( results, axis=0 ) ] )\n",
    "\n",
    "beneficios_2010_uf = pd.DataFrame( results, columns = \"UF Renda(Total)\\\n",
    "                                                    Renda(Beneficios) Total(%)\\\n",
    "                                                    Beneficio(>Sal) Beneficio(>Sal)(%)\\\n",
    "                                                    Beneficio(<=Sal) Beneficio(<=Sal)(%)\".split() )\n",
    "\n",
    "beneficios_2010_uf.to_csv( 'results/beneficios2010_uf.csv', sep = '\\t' )\n",
    "        \n",
    "print( \"Processamento do cálculo dos benfícios (ano 2010) realizado com sucesso\" )"
   ]
  },
  {
   "cell_type": "code",
   "execution_count": 12,
   "metadata": {},
   "outputs": [
    {
     "data": {
      "image/png": "[encoded data removed]",
      "text/plain": [
       "<Figure size 432x288 with 1 Axes>"
      ]
     },
     "metadata": {},
     "output_type": "display_data"
    }
   ],
   "source": [
    "# Plotagem da participação de aposentadorias e pensões no total para o Brasil\n",
    "import matplotlib.pyplot as plt\n",
    "\n",
    "# Percentual de participação dos beneficios em todo o Brasil\n",
    "p_total = beneficios_2010_uf['Total(%)'].sum() * 100 \n",
    "\n",
    "# Percentual de participação dos beneficios <= 1 sal em todo o Brasil\n",
    "p_um_sal = beneficios_2010_uf['Beneficio(<=Sal)(%)'].sum() * 100 \n",
    "\n",
    "# Percentual de participação dos beneficios > 1 sal em todo o Brasil\n",
    "p_mais_um_sal = beneficios_2010_uf['Beneficio(>Sal)(%)'].sum() * 100\n",
    "\n",
    "p_total_sal = [ ( ( p_um_sal * 100 ) / p_total ), ( ( p_mais_um_sal * 100 ) / p_total ) ] \n",
    "\n",
    "labels = 'Até 1 Salário','Acima de 1 Salário'\n",
    "plt.pie( p_total_sal, colors = [ 'y', 'r' ], autopct = '%1.1f%%' )\n",
    "plt.title( 'Aposentadorias e pensões - Brasil' )\n",
    "plt.legend( labels, bbox_to_anchor = ( 1.05, 1 ) )\n",
    "plt.show()"
   ]
  },
  {
   "cell_type": "code",
   "execution_count": 18,
   "metadata": {},
   "outputs": [
    {
     "name": "stdout",
     "output_type": "stream",
     "text": [
      "Processamento do cálculo dos benfícios para cidades (ano 2010) realizado com sucesso\n"
     ]
    }
   ],
   "source": [
    "# ---------- RESULTADOS DAS PARTICIPAÇÕES DE BENEFICIOS NO BRASIL - CIDADES ---------- #\n",
    "\n",
    "estados = [ \"ac\", \"al\", \"am\", \"ap\", \"ba\", \"ce\", \"df\", \"es\", \"go\", \"ma\", \"mg\", \"ms\", \"mt\",\n",
    "          \"pa\", \"pb\", \"pe\", \"pi\", \"pr\", \"rj\", \"rn\", \"ro\", \"rr\", \"rs\", \"sc\", \"se\", \n",
    "          \"sp1\", \"sp2_rm\",  \"to\" ]\n",
    "\n",
    "results = []\n",
    "\n",
    "for k in estados: \n",
    "\n",
    "    # Seleciona os estados e municpios\n",
    "    sql = \"SELECT DISTINCT( v0002 ) AS cidade FROM censo_2010.domicilios_%s\" % k\n",
    "    cidades = pd.read_sql_query( sql, conn )\n",
    "    \n",
    "    for i in cidades['cidade']:\n",
    "        \n",
    "        # Referenciando estado e cidade (k, i)\n",
    "        \n",
    "        # Rendimento total da cidade\n",
    "        sql_RT = \"SELECT COALESCE( SUM( v6591 * v0010 ), 0 ) AS RT \\\n",
    "                FROM censo_2010.pessoas_%s WHERE v0002 = '%s'\" %( k, i )\n",
    "\n",
    "        # Rendimento total dos beneficios da cidade\n",
    "        sql_RB = \"SELECT COALESCE( SUM( v6591 * v0010 ), 0 ) AS RB \\\n",
    "                FROM censo_2010.pessoas_%s WHERE v6591 <> 0 AND v0656 = 1 AND v0002 = '%s'\" %( k, i )\n",
    "\n",
    "        # Rendimento total dos beneficios acima de 1 salário minímo\n",
    "        sql_RB_nSAL = \"SELECT COALESCE( SUM( v6591 * v0010 ), 0 ) AS RB_NSAL \\\n",
    "                FROM censo_2010.pessoas_%s WHERE v6591 <> 0 AND v0656 = 1 AND v6591 > 510 AND v0002 = '%s'\" %( k, i )\n",
    "\n",
    "        # Rendimento total dos beneficios igual ou menor que 1 salário minímo\n",
    "        sql_RB_1SAL = \"SELECT COALESCE( SUM( v6591 * v0010 ), 0 ) AS RB_1SAL \\\n",
    "                FROM censo_2010.pessoas_%s WHERE v6591 <> 0 AND v0656 = 1 AND v6591 <= 510 AND v0002 = '%s'\" %( k, i )\n",
    "\n",
    "        # SQL - Unidade Federativa\n",
    "        sql_UF = \"SELECT v0001 as UF FROM censo_2010.domicilios_%s limit 1 \" %( k )        \n",
    "        \n",
    "        df_UF = pd.read_sql_query( sql_UF, conn )\n",
    "        df_RT = pd.read_sql_query( sql_RT, conn )\n",
    "        df_RB = pd.read_sql_query( sql_RB, conn )\n",
    "        df_RB_nSAL = pd.read_sql_query( sql_RB_nSAL, conn )\n",
    "        df_RB_1SAL = pd.read_sql_query( sql_RB_1SAL, conn )\n",
    "\n",
    "        RT = df_RT.loc[ 0, 'rt' ]\n",
    "        RB = df_RB.loc[ 0, 'rb' ]\n",
    "        RB_nSAL = df_RB_nSAL.loc[ 0, 'rb_nsal' ]\n",
    "        RB_1SAL = df_RB_1SAL.loc[ 0, 'rb_1sal' ]\n",
    "        \n",
    "        results.append( [ k,\n",
    "                          df_UF.loc[ 0, 'uf' ] + i,\n",
    "                          RT,\n",
    "                          RB,\n",
    "                          RB / RT,\n",
    "                          RB_nSAL,\n",
    "                          RB_nSAL / RT,\n",
    "                          RB_1SAL,\n",
    "                          RB_1SAL / RT] )\n",
    "\n",
    "\n",
    "\n",
    "beneficios_2010_cid = pd.DataFrame( results, columns = \"COD UF Renda(Total)\\\n",
    "                                                    Renda(Beneficios) Total(%)\\\n",
    "                                                    Beneficio(>Sal) Beneficio(>Sal)(%)\\\n",
    "                                                    Beneficio(<=Sal) Beneficio(<=Sal)(%)\".split() )\n",
    "\n",
    "beneficios_2010_cid.to_csv( 'results/beneficios2010_cidades.csv', sep = '\\t' )\n",
    "\n",
    "print( \"Processamento do cálculo dos benfícios para cidades (ano 2010) realizado com sucesso\" )"
   ]
  },
  {
   "cell_type": "markdown",
   "metadata": {},
   "source": [
    "### **Medida de progressividade dos benefícios**"
   ]
  }
 ],
 "metadata": {
  "kernelspec": {
   "display_name": "Python 3",
   "language": "python",
   "name": "python3"
  },
  "language_info": {
   "codemirror_mode": {
    "name": "ipython",
    "version": 3
   },
   "file_extension": ".py",
   "mimetype": "text/x-python",
   "name": "python",
   "nbconvert_exporter": "python",
   "pygments_lexer": "ipython3",
   "version": "3.7.1"
  }
 },
 "nbformat": 4,
 "nbformat_minor": 2
}
